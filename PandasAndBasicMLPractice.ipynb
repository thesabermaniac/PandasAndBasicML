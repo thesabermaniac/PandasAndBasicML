{
  "nbformat": 4,
  "nbformat_minor": 0,
  "metadata": {
    "colab": {
      "name": "PandasAndBasicMLPractice.ipynb",
      "provenance": [],
      "collapsed_sections": []
    },
    "kernelspec": {
      "name": "python3",
      "display_name": "Python 3"
    }
  },
  "cells": [
    {
      "cell_type": "markdown",
      "metadata": {
        "id": "ko60QDF35DeD"
      },
      "source": [
        "#Set 1"
      ]
    },
    {
      "cell_type": "markdown",
      "metadata": {
        "id": "dgqzZAHMNVuY"
      },
      "source": [
        "###1.Import data from github <br>2. Import into a pandas dataframe <br>3. Assign column names"
      ]
    },
    {
      "cell_type": "code",
      "metadata": {
        "colab": {
          "base_uri": "https://localhost:8080/"
        },
        "id": "puCXaUCXMn7_",
        "outputId": "005878ef-632b-4d2d-ef89-70bb1660b689"
      },
      "source": [
        "import pandas as pd\r\n",
        "\r\n",
        "names = ['numDoors', 'numCylinders', 'mpgHighway', 'mpgStreets', 'currentMileage', 'avgMileagePerTuneUp', 'qualityRating']\r\n",
        "df = pd.read_csv('https://raw.githubusercontent.com/thesabermaniac/PandasAndBasicML/main/Blank_Car_Info.csv', names=names)\r\n",
        "\r\n",
        "print(df)"
      ],
      "execution_count": 178,
      "outputs": [
        {
          "output_type": "stream",
          "text": [
            "      numDoors  numCylinders  ...  avgMileagePerTuneUp  qualityRating\n",
            "0            3             1  ...                  431       0.369963\n",
            "1            1             2  ...                  934       0.754573\n",
            "2            1             3  ...                  915       0.886215\n",
            "3            2             3  ...                   10       0.971624\n",
            "4            2             2  ...                   10       0.848398\n",
            "...        ...           ...  ...                  ...            ...\n",
            "1075         4             1  ...                  283       0.518708\n",
            "1076         4             2  ...                  431       0.540775\n",
            "1077         2             2  ...                   10       0.919054\n",
            "1078         1             1  ...                   10       0.828795\n",
            "1079         2             3  ...                  934       0.116761\n",
            "\n",
            "[1080 rows x 7 columns]\n"
          ],
          "name": "stdout"
        }
      ]
    },
    {
      "cell_type": "markdown",
      "metadata": {
        "id": "eaa5VQmTNTxP"
      },
      "source": [
        ""
      ]
    },
    {
      "cell_type": "markdown",
      "metadata": {
        "id": "xtRPPO_tQx9m"
      },
      "source": [
        "###4. Check for null values"
      ]
    },
    {
      "cell_type": "code",
      "metadata": {
        "colab": {
          "base_uri": "https://localhost:8080/"
        },
        "id": "9jjyL1vOQ1oz",
        "outputId": "05c27aed-1740-4790-87e1-4b1e0f757d41"
      },
      "source": [
        "is_null = df.isnull()\r\n",
        "print(is_null.sum())"
      ],
      "execution_count": 179,
      "outputs": [
        {
          "output_type": "stream",
          "text": [
            "numDoors               0\n",
            "numCylinders           0\n",
            "mpgHighway             0\n",
            "mpgStreets             0\n",
            "currentMileage         0\n",
            "avgMileagePerTuneUp    0\n",
            "qualityRating          0\n",
            "dtype: int64\n"
          ],
          "name": "stdout"
        }
      ]
    },
    {
      "cell_type": "markdown",
      "metadata": {
        "id": "oKZIPkVzRQW3"
      },
      "source": [
        "###5. Run kmeans clustering"
      ]
    },
    {
      "cell_type": "code",
      "metadata": {
        "colab": {
          "base_uri": "https://localhost:8080/"
        },
        "id": "6t32zmAgRUm5",
        "outputId": "6fd22a5f-aab9-49c3-d493-2aec9b32142e"
      },
      "source": [
        "from sklearn.cluster import KMeans\r\n",
        "\r\n",
        "kmeans = KMeans(n_clusters=4).fit(df.values)\r\n",
        "cc = kmeans.cluster_centers_\r\n",
        "print(cc)"
      ],
      "execution_count": 180,
      "outputs": [
        {
          "output_type": "stream",
          "text": [
            "[[2.35379061e+00 2.37184116e+00 2.68772563e+01 2.58032491e+01\n",
            "  2.52176895e+02 2.45373646e+02 5.06421092e-01]\n",
            " [2.41981132e+00 2.42924528e+00 2.62971698e+01 2.72169811e+01\n",
            "  2.48825472e+02 8.66966981e+02 5.46785990e-01]\n",
            " [2.26724138e+00 2.49137931e+00 2.61853448e+01 2.52155172e+01\n",
            "  8.54737069e+02 2.34806034e+02 4.89035414e-01]\n",
            " [2.34146341e+00 2.47560976e+00 2.70731707e+01 2.67682927e+01\n",
            "  8.75695122e+02 8.72621951e+02 5.06455425e-01]]\n"
          ],
          "name": "stdout"
        }
      ]
    },
    {
      "cell_type": "markdown",
      "metadata": {
        "id": "kOwibYc3TI8F"
      },
      "source": [
        "###6. Find cluster for new data"
      ]
    },
    {
      "cell_type": "code",
      "metadata": {
        "colab": {
          "base_uri": "https://localhost:8080/"
        },
        "id": "1WkzQIKLTPl_",
        "outputId": "cc0a2243-1a1f-46d9-dd06-362f4992254c"
      },
      "source": [
        "import numpy as np\r\n",
        "\r\n",
        "\r\n",
        "new_data = np.array([2, 4, 500, 300, 150, 760, .6])\r\n",
        "pred = kmeans.predict([[2, 4, 500, 300, 150, 760, .6]])\r\n",
        "print(pred)"
      ],
      "execution_count": 181,
      "outputs": [
        {
          "output_type": "stream",
          "text": [
            "[1]\n"
          ],
          "name": "stdout"
        }
      ]
    },
    {
      "cell_type": "markdown",
      "metadata": {
        "id": "5nxt6OYWbbBd"
      },
      "source": [
        "###7. SVM"
      ]
    },
    {
      "cell_type": "code",
      "metadata": {
        "colab": {
          "base_uri": "https://localhost:8080/"
        },
        "id": "FK67vzksbc9v",
        "outputId": "2acf9224-e603-4aa2-98bf-4c97a0c7aaa9"
      },
      "source": [
        "from sklearn import svm\r\n",
        "\r\n",
        "df['qualityRating'] = pd.cut(df['qualityRating'], 3, labels=['bad', 'average', 'good'])\r\n",
        "svm = svm.SVC().fit(df.values[:,:-1], df.values[:, -1])\r\n",
        "\r\n",
        "new_car = svm.predict([[2, 3, 100, 900, 500, 45]])\r\n",
        "print(new_car)"
      ],
      "execution_count": 182,
      "outputs": [
        {
          "output_type": "stream",
          "text": [
            "['good']\n"
          ],
          "name": "stdout"
        }
      ]
    },
    {
      "cell_type": "markdown",
      "metadata": {
        "id": "omGdpdOd5Kt1"
      },
      "source": [
        "#Set 2"
      ]
    },
    {
      "cell_type": "markdown",
      "metadata": {
        "id": "o5dlIz8d5MZF"
      },
      "source": [
        "###1. Download Yahoo Data<br>2. Upload to github<br>3. Place data in pandas dataframe<br>4. Output statistics for each column"
      ]
    },
    {
      "cell_type": "code",
      "metadata": {
        "colab": {
          "base_uri": "https://localhost:8080/"
        },
        "id": "H4JKoR0H8e_b",
        "outputId": "0d5539c1-52b2-48c4-a2f5-b9bcc3300220"
      },
      "source": [
        "stock_prices = pd.read_csv('https://raw.githubusercontent.com/thesabermaniac/PandasAndBasicML/main/TickerData.csv')\r\n",
        "print(stock_prices.describe())\r\n"
      ],
      "execution_count": 183,
      "outputs": [
        {
          "output_type": "stream",
          "text": [
            "              TSLA         AAPL         AMZN        GOOGL         NFLX\n",
            "count  1259.000000  1259.000000  1259.000000  1259.000000  1259.000000\n",
            "mean    124.596465    54.767843  1631.599848  1132.494996   284.875163\n",
            "std     168.723593    28.823262   776.167588   287.578670   133.982203\n",
            "min      35.793999    22.584999   552.080017   681.140015    85.330002\n",
            "25%      49.028000    36.445002   953.474976   936.875000   153.870003\n",
            "50%      62.644001    44.915001  1641.089966  1104.510010   301.049988\n",
            "75%      74.207000    63.637498  1906.724976  1258.955017   367.649994\n",
            "max     883.090027   143.160004  3531.449951  2118.620117   586.340027\n"
          ],
          "name": "stdout"
        }
      ]
    },
    {
      "cell_type": "markdown",
      "metadata": {
        "id": "grm37c3E-RbN"
      },
      "source": [
        "###5. Output covariance and correlation matrices"
      ]
    },
    {
      "cell_type": "code",
      "metadata": {
        "colab": {
          "base_uri": "https://localhost:8080/"
        },
        "id": "0CCquDtb-WlU",
        "outputId": "d2537393-43ca-43f2-fa00-a24114e7f0c1"
      },
      "source": [
        "print(stock_prices.cov())\r\n",
        "print(stock_prices.corr())"
      ],
      "execution_count": 184,
      "outputs": [
        {
          "output_type": "stream",
          "text": [
            "                TSLA          AAPL           AMZN          GOOGL           NFLX\n",
            "TSLA    28467.650870   4314.330727  100627.026597   38715.315103   15128.697805\n",
            "AAPL     4314.330727    830.780429   21190.722289    7855.577163    3360.687836\n",
            "AMZN   100627.026597  21190.722289  602436.125206  211304.009446  100494.451660\n",
            "GOOGL   38715.315103   7855.577163  211304.009446   82701.491156   35426.739287\n",
            "NFLX    15128.697805   3360.687836  100494.451660   35426.739287   17951.230657\n",
            "           TSLA      AAPL      AMZN     GOOGL      NFLX\n",
            "TSLA   1.000000  0.887145  0.768393  0.797903  0.669235\n",
            "AAPL   0.887145  1.000000  0.947212  0.947716  0.870238\n",
            "AMZN   0.768393  0.947212  1.000000  0.946663  0.966361\n",
            "GOOGL  0.797903  0.947716  0.946663  1.000000  0.919448\n",
            "NFLX   0.669235  0.870238  0.966361  0.919448  1.000000\n"
          ],
          "name": "stdout"
        }
      ]
    },
    {
      "cell_type": "markdown",
      "metadata": {
        "id": "kLA0QI1e_FVZ"
      },
      "source": [
        "###6. Linear Regression"
      ]
    },
    {
      "cell_type": "code",
      "metadata": {
        "colab": {
          "base_uri": "https://localhost:8080/"
        },
        "id": "fclgqtwh_H2M",
        "outputId": "d3ff92c9-05d8-41ba-d72f-2971f3bebb30"
      },
      "source": [
        "from sklearn.linear_model import LinearRegression\r\n",
        "\r\n",
        "tsla = stock_prices['TSLA']\r\n",
        "length = len(tsla)\r\n",
        "\r\n",
        "model = LinearRegression().fit(np.arange(length).reshape(length,1), tsla)\r\n",
        "\r\n",
        "print(model.predict([[i] for i in range(length, length+5)]))"
      ],
      "execution_count": 185,
      "outputs": [
        {
          "output_type": "stream",
          "text": [
            "[306.39006341 306.67862468 306.96718594 307.25574721 307.54430848]\n"
          ],
          "name": "stdout"
        }
      ]
    },
    {
      "cell_type": "markdown",
      "metadata": {
        "id": "dxIFW2bngJNi"
      },
      "source": [
        "###7. Log percentage difference"
      ]
    },
    {
      "cell_type": "code",
      "metadata": {
        "colab": {
          "base_uri": "https://localhost:8080/"
        },
        "id": "XgIkz4IFgOqe",
        "outputId": "9446a04d-d946-4a2a-a927-f36b98bf1531"
      },
      "source": [
        "import copy\r\n",
        "\r\n",
        "log_diff = copy.deepcopy(stock_prices)\r\n",
        "log_diff.loc[:, 'TSLA':] = stock_prices.loc[:, 'TSLA':].apply(np.log).diff()\r\n",
        "print(log_diff)"
      ],
      "execution_count": 186,
      "outputs": [
        {
          "output_type": "stream",
          "text": [
            "           Date      TSLA      AAPL      AMZN     GOOGL      NFLX\n",
            "0     2/24/2016       NaN       NaN       NaN       NaN       NaN\n",
            "1     2/25/2016  0.046020  0.006844  0.002002  0.011338  0.031377\n",
            "2     2/26/2016  0.015407  0.001549  0.000144 -0.005860  0.002747\n",
            "3     2/29/2016  0.008319 -0.002273 -0.004893 -0.010596 -0.014665\n",
            "4      3/1/2016 -0.029504  0.038946  0.046882  0.034196  0.051026\n",
            "...         ...       ...       ...       ...       ...       ...\n",
            "1254  2/17/2021  0.002421 -0.017802  0.012068  0.003745 -0.010716\n",
            "1255  2/18/2021 -0.013586 -0.008674  0.005903 -0.006065 -0.005675\n",
            "1256  2/19/2021 -0.007752  0.001233 -0.023816 -0.008106 -0.014700\n",
            "1257  2/22/2021 -0.089376 -0.030252 -0.021510 -0.016679 -0.011993\n",
            "1258  2/23/2021 -0.022161 -0.001112  0.004317  0.002849  0.022910\n",
            "\n",
            "[1259 rows x 6 columns]\n"
          ],
          "name": "stdout"
        }
      ]
    }
  ]
}